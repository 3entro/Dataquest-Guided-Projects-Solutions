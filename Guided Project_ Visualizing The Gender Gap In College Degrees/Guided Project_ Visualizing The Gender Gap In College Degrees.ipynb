{
 "cells": [
  {
   "cell_type": "markdown",
   "metadata": {},
   "source": [
    "In this project, we'll look at the number of women in various majors between 1968-2011. We will then plot our findings to see if there are majors with less women than others. We'll focus on plotting asthetics in this project. \n",
    "\n",
    "We will work with matplotlib.pyplot and we will not need the jupyter magic %matplotlib inline"
   ]
  },
  {
   "cell_type": "code",
   "execution_count": null,
   "metadata": {
    "collapsed": true
   },
   "outputs": [],
   "source": [
    "import pandas as pd\n",
    "import matplotlib.pyplot as plt\n",
    "women_degrees = pd.read_csv('percent-bachelors-degrees-women-usa.csv')\n",
    "\n",
    "#Set plot line colors to colorblind mode\n",
    "cb_dark_blue = (0/255,107/255,164/255)\n",
    "cb_orange = (255/255, 128/255, 14/255)\n",
    "\n",
    "#Create 3 categories of majors\n",
    "stem_cats = ['Psychology', 'Biology', 'Math and Statistics', 'Physical Sciences', 'Computer Science', 'Engineering', 'Computer Science']\n",
    "lib_arts_cats = ['Foreign Languages', 'English', 'Communications and Journalism', 'Art and Performance', 'Social Sciences and History']\n",
    "other_cats = ['Health Professions', 'Public Administration', 'Education', 'Agriculture','Business', 'Architecture']"
   ]
  },
  {
   "cell_type": "markdown",
   "metadata": {
    "collapsed": true
   },
   "source": [
    "We have to think about how we are going to put our plots together. Since there are three main categories we want to look at, we will put stem_cats in one column, lib_arts_cats in another column, and finally other_cats in the last_column.\n",
    "\n",
    "When we present our findings we want to have least amount of clutter as possible."
   ]
  },
  {
   "cell_type": "code",
   "execution_count": null,
   "metadata": {},
   "outputs": [],
   "source": [
    "fig = plt.figure(figsize=(18, 20))\n",
    "\n",
    "#for stem, loop 6 times for 6 plots.                 \n",
    "for sp in range(0,6):\n",
    "    #We are going to have 17 plots total, so we'll layout our plots in a 6 rows 3 columns format.\n",
    "    ax = fig.add_subplot(6,3,3*sp+1)\n",
    "    ax.plot(women_degrees['Year'], women_degrees[stem_cats[sp]], c=cb_dark_blue, label='Women', linewidth=3)\n",
    "    ax.plot(women_degrees['Year'], 100-women_degrees[stem_cats[sp]], c=cb_orange, label='Men', linewidth=3)\n",
    "    \n",
    "    #remove the spines\n",
    "    ax.spines[\"right\"].set_visible(False)    \n",
    "    ax.spines[\"left\"].set_visible(False)\n",
    "    ax.spines[\"top\"].set_visible(False)    \n",
    "    ax.spines[\"bottom\"].set_visible(False)\n",
    "    \n",
    "    #set x,y limits\n",
    "    ax.set_xlim(1968, 2011)\n",
    "    ax.set_ylim(0,100)\n",
    "    \n",
    "    #set title\n",
    "    ax.set_title(stem_cats[sp])\n",
    "    \n",
    "    #remove ticks marks\n",
    "    ax.tick_params(bottom=\"off\", top=\"off\", left=\"off\", right=\"off\")\n",
    "    \n",
    "    #set tick values\n",
    "    ax.set_yticks([0,100])\n",
    "    \n",
    "    #adds a horizontal line at y=50 position\n",
    "    ax.axhline(50, c=(171/255, 171/255, 171/255), alpha=0.3)\n",
    "    \n",
    "    #add text to the plots at the given positions\n",
    "    if sp != 5:\n",
    "        ax.tick_params(labelbottom='off')\n",
    "    if sp == 0:\n",
    "        ax.text(2001, 82, 'Women')\n",
    "        ax.text(2005, 10, 'Men')\n",
    "    elif sp == 5:\n",
    "        ax.text(2005, 90, 'Men')\n",
    "        ax.text(2001, 8, 'Women')\n",
    "\n",
    "#for lib arts, loop 5 times for 5 plots        \n",
    "for sp in range(0,5):\n",
    "    ax = fig.add_subplot(6,3,3*sp+2)\n",
    "    ax.plot(women_degrees['Year'], women_degrees[lib_arts_cats[sp]], c=cb_dark_blue, label='Women', linewidth=3)\n",
    "    ax.plot(women_degrees['Year'], 100-women_degrees[lib_arts_cats[sp]], c=cb_orange, label='Men', linewidth=3)\n",
    "    ax.spines[\"right\"].set_visible(False)    \n",
    "    ax.spines[\"left\"].set_visible(False)\n",
    "    ax.spines[\"top\"].set_visible(False)    \n",
    "    ax.spines[\"bottom\"].set_visible(False)\n",
    "    ax.set_xlim(1968, 2011)\n",
    "    ax.set_ylim(0,100)\n",
    "    ax.set_title(lib_arts_cats[sp])\n",
    "    ax.tick_params(bottom=\"off\", top=\"off\", left=\"off\", right=\"off\")\n",
    "    ax.set_yticks([0,100])\n",
    "    ax.axhline(50, c=(171/255, 171/255, 171/255), alpha=0.3)\n",
    "    if sp != 4:\n",
    "        ax.tick_params(labelbottom='off')\n",
    "    if sp == 0:\n",
    "        ax.text(2001, 82, 'Women')\n",
    "        ax.text(2005, 20, 'Men')\n",
    "        \n",
    "#for other categories, loop 6 times for 6 plots       \n",
    "for sp in range(0, 6):\n",
    "    ax = fig.add_subplot(6,3,3*sp+3)\n",
    "    ax.plot(women_degrees['Year'], women_degrees[other_cats[sp]], c=cb_dark_blue, label='Women', linewidth=3)\n",
    "    ax.plot(women_degrees['Year'], 100-women_degrees[other_cats[sp]], c=cb_orange, label='Men', linewidth=3)\n",
    "    ax.spines[\"right\"].set_visible(False)    \n",
    "    ax.spines[\"left\"].set_visible(False)\n",
    "    ax.spines[\"top\"].set_visible(False)    \n",
    "    ax.spines[\"bottom\"].set_visible(False)\n",
    "    ax.set_xlim(1968, 2011)\n",
    "    ax.set_ylim(0,100)\n",
    "    ax.set_title(other_cats[sp])\n",
    "    ax.tick_params(bottom=\"off\", top=\"off\", left=\"off\", right=\"off\")\n",
    "    ax.set_yticks([0,100])\n",
    "    ax.axhline(50, c=(171/255, 171/255, 171/255), alpha=0.3)\n",
    "    if sp != 5:\n",
    "        ax.tick_params(labelbottom='off')\n",
    "    if sp == 0:\n",
    "        ax.text(2001, 90, 'Women')\n",
    "        ax.text(2005, 7, 'Men')\n",
    "    elif sp == 5:\n",
    "        ax.text(2005, 62, 'Men')\n",
    "        ax.text(2001, 32, 'Women')     \n",
    "\n",
    "#Save the plot file in the same folder as the notebook file\n",
    "fig.savefig('gender_degrees.png')\n",
    "plt.show()"
   ]
  },
  {
   "cell_type": "markdown",
   "metadata": {
    "collapsed": true
   },
   "source": [
    "### For STEM fields:\n",
    "\n",
    "It looks like there is still a huge gender gap in engineering/CS majors. The psychology major is majority women. Physical sciences and biology became more popular with women over the years.\n",
    "\n",
    "### For liberal arts:\n",
    "\n",
    "Most of the majors we selected are majority women. There is no gender gap in social sciences/history.\n",
    "\n",
    "### For other majors:\n",
    "\n",
    "Majors such as agriculture, business, and architecture became more popular with women over the years, closing the gender gap. Where as majors in health professions, public administration and education are majority women.\n",
    "\n",
    "---\n",
    "\n",
    "#### Learning Summary\n",
    "\n",
    "Python concepts explored: pandas, matplotlib, histograms, line plots, chart graphics\n",
    "\n",
    "Python functions and methods used: .savefig(), .text(), .axhline(), .set_yticks(), .tick_params(), .set_title(), .set_ylim(), .set_xlim(), .spines(), .tick_params()\n",
    "\n",
    "The files used for this project can be found in my [GitHub repository](https://github.com/sengkchu/Dataquest-Guided-Projects-Solutions/tree/master/Guided%20Project_%20Visualizing%20The%20Gender%20Gap%20In%20College%20Degrees)."
   ]
  }
 ],
 "metadata": {
  "kernelspec": {
   "display_name": "Python 3",
   "language": "python",
   "name": "python3"
  },
  "language_info": {
   "codemirror_mode": {
    "name": "ipython",
    "version": 3
   },
   "file_extension": ".py",
   "mimetype": "text/x-python",
   "name": "python",
   "nbconvert_exporter": "python",
   "pygments_lexer": "ipython3",
   "version": "3.5.2"
  }
 },
 "nbformat": 4,
 "nbformat_minor": 1
}
